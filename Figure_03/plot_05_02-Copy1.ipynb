{
 "cells": [
  {
   "cell_type": "code",
   "execution_count": null,
   "id": "054fdc30-7224-44a1-a3c0-cf9be7f2d030",
   "metadata": {
    "tags": []
   },
   "outputs": [],
   "source": [
    "import numpy as np\n",
    "import matplotlib.pyplot as plt\n",
    "plt.rcParams['mathtext.fontset'] = 'stix'    "
   ]
  },
  {
   "cell_type": "code",
   "execution_count": null,
   "id": "b6d15be0-d223-4ac9-9033-1b140c4fca04",
   "metadata": {
    "tags": []
   },
   "outputs": [],
   "source": [
    "data = np.load(\"06_solve_v_by_disp_4.npz\")"
   ]
  },
  {
   "cell_type": "code",
   "execution_count": null,
   "id": "f2e650f3-38bb-4cb9-bcd9-758f48993aec",
   "metadata": {
    "tags": []
   },
   "outputs": [],
   "source": [
    "list(data.keys())"
   ]
  },
  {
   "cell_type": "code",
   "execution_count": null,
   "id": "ed572823-86b7-4c3a-8814-01fee9e27116",
   "metadata": {
    "tags": []
   },
   "outputs": [],
   "source": [
    "data_pt = data[\"data\"].reshape((101,101,3,2))"
   ]
  },
  {
   "cell_type": "code",
   "execution_count": null,
   "id": "e4018137-2c2c-4974-b4ee-f8858a9a3188",
   "metadata": {},
   "outputs": [],
   "source": [
    "plt.plot(data_pt[0,:,0,0].transpose(), \"x-\")\n",
    "plt.plot(data_pt[0,:,1,0].transpose(), \"X-\")\n",
    "plt.plot(data_pt[0,:,2,0].transpose(), \"X-\")\n",
    "\n"
   ]
  },
  {
   "cell_type": "code",
   "execution_count": null,
   "id": "0b686300-2def-42a6-80f8-77ae166ba136",
   "metadata": {
    "tags": []
   },
   "outputs": [],
   "source": [
    "plt.pcolormesh(data[\"k\"], data[\"beta\"], data_pt[:,:,1,1].transpose(), vmin=0,  vmax=0.01)\n",
    "plt.colorbar()\n",
    "plt.contour(data[\"k\"], data[\"beta\"], data_pt[:,:,1,1].transpose(), levels=[0.0001], colors=\"white\", linewidths=(3,), linestyles=\"dashed\")"
   ]
  },
  {
   "cell_type": "code",
   "execution_count": null,
   "id": "cc36f078-eeff-4a2a-8a6f-af5f4ee34002",
   "metadata": {},
   "outputs": [],
   "source": [
    "plt.pcolormesh(data[\"k\"], data[\"beta\"], data_pt[:,:,0,1].transpose(), vmin=0,  vmax=0.01)\n",
    "plt.colorbar()\n",
    "plt.contour(data[\"k\"], data[\"beta\"], data_pt[:,:,0,1].transpose(), levels=[0.0001], colors=\"white\", linewidths=(3,), linestyles=\"dashed\")"
   ]
  },
  {
   "cell_type": "code",
   "execution_count": null,
   "id": "2b41db15-178f-46b6-8907-8f0f2783709f",
   "metadata": {},
   "outputs": [],
   "source": [
    "plt.pcolormesh(data[\"k\"], data[\"beta\"], data_pt[:,:,2,1].transpose(), vmin=0,  vmax=0.01)\n",
    "plt.colorbar()\n",
    "plt.contour(data[\"k\"], data[\"beta\"], data_pt[:,:,2,1].transpose(), levels=[0.0001], colors=\"white\", linewidths=(3,), linestyles=\"dashed\")"
   ]
  },
  {
   "cell_type": "code",
   "execution_count": null,
   "id": "562d967a-f4d7-4eaf-898e-c11d724e42cd",
   "metadata": {
    "tags": []
   },
   "outputs": [],
   "source": [
    "data_sim = np.load(\"07_output.npz\")\n",
    "\n",
    "data_sim_pt = data_sim[\"data\"].reshape((101,101,3))"
   ]
  },
  {
   "cell_type": "code",
   "execution_count": null,
   "id": "abe1406d-7aca-4e10-af78-3594bb251083",
   "metadata": {},
   "outputs": [],
   "source": [
    "\n",
    "N_steps = 100\n",
    "\n",
    "k_min = 0.01\n",
    "k_max = 1.00\n",
    "d_k = k_max / N_steps\n",
    "\n",
    "beta_min = 0\n",
    "beta_max = 5e-3\n",
    "d_beta = beta_max / N_steps\n",
    "\n",
    "all_beta = np.array([0 + beta_i * d_beta for beta_i in range(100+1)])\n",
    "\n"
   ]
  },
  {
   "cell_type": "code",
   "execution_count": null,
   "id": "3a49799e-e298-402b-a805-17e0e3b42c69",
   "metadata": {},
   "outputs": [],
   "source": [
    "cntr1 = plt.contour(data[\"k\"], data[\"beta\"], data_pt[:,:,0,1].transpose(), levels=[0.00001])\n",
    "cntr2 = plt.contour(data[\"k\"], data[\"beta\"], data_pt[:,:,1,1].transpose(), levels=[0.00001])\n",
    "cntr3 = plt.contour(data[\"k\"], data[\"beta\"], data_pt[:,:,2,1].transpose(), levels=[0.00001])\n",
    "\n",
    "cntr1_sim = plt.contour(data_sim[\"k\"], all_beta, data_sim_pt[:,:,0].transpose(), levels=[0.001])\n",
    "cntr2_sim = plt.contour(data_sim[\"k\"], all_beta, data_sim_pt[:,:,1].transpose(), levels=[0.001])\n",
    "cntr3_sim = plt.contour(data_sim[\"k\"], all_beta, data_sim_pt[:,:,2].transpose(), levels=[0.001])\n",
    "\n",
    "plt.show()\n",
    "path1 = cntr1.get_paths()[0].vertices\n",
    "path2 = cntr2.get_paths()[0].vertices\n",
    "path3 = cntr3.get_paths()[0].vertices\n",
    "path1_sim = cntr1_sim.get_paths()[0].vertices\n",
    "path2_sim = cntr2_sim.get_paths()[0].vertices\n",
    "path3_sim = cntr3_sim.get_paths()[0].vertices"
   ]
  },
  {
   "cell_type": "code",
   "execution_count": null,
   "id": "1a89f793-2e7f-4a8a-a06b-9791691e4ac5",
   "metadata": {},
   "outputs": [],
   "source": [
    "fig, ax = plt.subplots(1,1,figsize=(15/2.54, 5/2.54))\n",
    "\n",
    "\n",
    "ax.plot(path1_sim[::10,0], path1_sim[::10,1], \"ko\", mfc=\"none\", markeredgewidth=1.5, label=\"Control\\n(Simulations)\")\n",
    "ax.plot(path2_sim[::10,0], path2_sim[::10,1], \"r^\", mfc=\"none\", markeredgewidth=1.5, label=\"Variation Narrowing\\n(Simulations)\")\n",
    "ax.plot(path3_sim[::10,0], path3_sim[::10,1], \"b>\", mfc=\"none\", markeredgewidth=1.5, label=\"Variation Widening\\n(Simulations)\")\n",
    "\n",
    "# ax.plot(path1[:,0], path1[:,1], \"k--\", linewidth=2, label=\"Control\\n(Prediction)\")\n",
    "# ax.plot(path2[:,0], path2[:,1], \"r-.\", linewidth=2, label=\"Release Probability\\nVariation Narrowing\\n(Prediction)\")\n",
    "# ax.plot(path3[:,0], path3[:,1], \"g-.\", linewidth=2, label=\"Release Probability\\nVariation Narrowing\\n(Prediction)\")\n",
    "\n",
    "ax.plot(path1[:,0], path1[:,1], \"k--\", linewidth=2)\n",
    "ax.plot(path2[:,0], path2[:,1], \"r--\", linewidth=2)\n",
    "ax.plot(path3[:,0], path3[:,1], \"b--\", linewidth=2)\n",
    "\n",
    "\n",
    "# ax.set_title('(C)', loc=\"left\")\n",
    "\n",
    "ax.set_xlabel(r'$k$', fontsize=14)\n",
    "ax.set_ylabel(r'$\\overline{\\beta}$', fontsize=14)\n",
    "\n",
    "ax.set_ylim(-0.0001,0.0045)\n",
    "\n",
    "ax.set_xticks(np.arange(0,1.01,0.2))\n",
    "\n",
    "plt.legend(loc=\"upper left\", bbox_to_anchor=(1.01, 0.995))\n",
    "plt.tight_layout(pad=0.5)\n",
    "\n",
    "# plt.savefig(\"Figure_03D.pdf\")"
   ]
  },
  {
   "cell_type": "code",
   "execution_count": null,
   "id": "d699f135-4b01-4cd8-ae21-0d330506b44d",
   "metadata": {},
   "outputs": [],
   "source": [
    "fig, ax = plt.subplots(figsize=(15/2.525, 7/2.525))\n",
    "\n",
    "ax.plot(data[\"beta\"], data_pt[50,:,0,1].transpose(), \"k--\", linewidth=2)\n",
    "ax.plot(all_beta[::5], data_sim_pt[50,::5,0].transpose(), \"ko\", mfc=\"none\", markeredgewidth=1.5, ms=10, label=\"Control\")\n",
    "\n",
    "ax.plot(data[\"beta\"], data_pt[50,:,1,1].transpose(), \"r-.\", linewidth=2)\n",
    "ax.plot(all_beta[1::5], data_sim_pt[50,1::5,1].transpose(), \"r^\", mfc=\"none\", markeredgewidth=1.5, ms=10, label=\"Variation Narrowing\")\n",
    "\n",
    "ax.plot(data[\"beta\"], data_pt[50,:,2,1].transpose(), \"b-.\", linewidth=2)\n",
    "ax.plot(all_beta[1::5], data_sim_pt[50,1::5,2].transpose(), \"b>\", mfc=\"none\", markeredgewidth=1.5, ms=10, label=\"Variation Widening\")\n",
    "\n",
    "ax.set_xticks(np.arange(0,0.0051, 0.001))\n",
    "ax.set_yticks(np.arange(0,0.0201, 0.005))\n",
    "\n",
    "ax.set_ylim((-0.001,0.01))\n",
    "\n",
    "ax.set_xlabel(r'$\\overline{\\beta}$', fontsize=14)\n",
    "ax.set_ylabel(r'$dz~/~dt$', fontsize=14)\n",
    "\n",
    "# ax.set_title(\"(C)\", x=-0.15)\n",
    "\n",
    "ax.legend()\n",
    "\n",
    "plt.tight_layout()\n",
    "\n",
    "# plt.savefig(\"Figure_04C.pdf\")"
   ]
  },
  {
   "cell_type": "code",
   "execution_count": null,
   "id": "a897a365-674f-4c99-a2e5-72406c0877ea",
   "metadata": {},
   "outputs": [],
   "source": [
    "fig, ax = plt.subplots(1,3,figsize=(15/2.54, 5.5/2.54))\n",
    "\n",
    "hfont = {'fontname':'Arial'}\n",
    "\n",
    "# Create a list to store the pcolormesh plots\n",
    "plots = []\n",
    "\n",
    "# First subplot\n",
    "plots.append(ax[0].pcolormesh(data_sim[\"k\"], all_beta, data_sim_pt[:,:,0].transpose(), vmin = -0.005,vmax=0.03))\n",
    "ax[0].contour(data[\"k\"], data[\"beta\"], data_pt[:,:,0,1].transpose(), levels=[0.00001], colors=\"white\", linewidths=(2,), linestyles=\"dashed\")\n",
    "ax[0].set_title('Control', ha=\"center\", loc=\"center\")\n",
    "ax[0].text(-0.35,0.5,r'$\\overline{\\beta}$',ha=\"center\", fontsize=14, rotation=90, transform=ax[0].transAxes, **hfont)\n",
    "ax[0].text(-0.1,1.15,r'(A)',ha=\"center\", fontsize=14, transform=ax[0].transAxes, weight=\"bold\", **hfont)\n",
    "\n",
    "# Second subplot\n",
    "plots.append(ax[1].pcolormesh(data_sim[\"k\"], all_beta, data_sim_pt[:,:,1].transpose(), vmin = -0.005,vmax=0.03))\n",
    "ax[1].contour(data[\"k\"], data[\"beta\"], data_pt[:,:,1,1].transpose(), levels=[0.00001], colors=\"white\", linewidths=(2,), linestyles=\"dashed\")\n",
    "ax[1].set_title('Variation\\nNarrowing', ha=\"center\", loc=\"center\", **hfont)\n",
    "ax[1].text(-0.1,1.15,r'(B)',ha=\"center\", fontsize=14, transform=ax[1].transAxes, weight=\"bold\", **hfont)\n",
    "\n",
    "# Third subplot\n",
    "plots.append(ax[2].pcolormesh(data_sim[\"k\"], all_beta, data_sim_pt[:,:,2].transpose(), vmin = -0.005,vmax=0.03))\n",
    "ax[2].contour(data[\"k\"], data[\"beta\"], data_pt[:,:,2,1].transpose(), levels=[0.00001], colors=\"white\", linewidths=(2,), linestyles=\"dashed\")\n",
    "ax[2].set_title('Variation\\nWidening', ha=\"center\", loc=\"center\", **hfont)\n",
    "ax[2].text(-0.1,1.15,r'(C)',ha=\"center\", fontsize=14, transform=ax[2].transAxes, weight=\"bold\", **hfont)\n",
    "\n",
    "# Common settings for all subplots\n",
    "for ax_t in ax:\n",
    "    ax_t.set_xlabel('$k$', fontsize=14)\n",
    "    #ax_t.set_ylabel(r'$\\overline{\\beta}$', fontsize=14)\n",
    "    ax_t.set_ylim(0,0.0045)\n",
    "    # Set specific y-ticks\n",
    "    ax_t.set_yticks([0, 0.002, 0.004])\n",
    "    # Rotate y-tick labels and align to center\n",
    "    ax_t.tick_params(axis='y', rotation=90)\n",
    "    ax_t.yaxis.set_label_coords(-0.1, 0.5)\n",
    "    # Align tick labels to center\n",
    "    for tick in ax_t.yaxis.get_major_ticks():\n",
    "        tick.label1.set_verticalalignment('center')\n",
    "\n",
    "\n",
    "\n",
    "# # Add a single colorbar\n",
    "# fig.colorbar(plots[0], ax=ax.ravel().tolist())\n",
    "# Add a single colorbar on the right\n",
    "cbar_ax = fig.add_axes([0.9, 0.15, 0.02, 0.7])  # [left, bottom, width, height]\n",
    "fig.colorbar(plots[0], cax=cbar_ax)\n",
    "\n",
    "plt.subplots_adjust(top=0.8, bottom=0.22, left=0.1, right=0.87, hspace=0.1, wspace=0.3)\n",
    "\n",
    "# plt.tight_layout(pad=0.5)\n",
    "plt.savefig(\"Figure_03ABC.pdf\")"
   ]
  },
  {
   "cell_type": "code",
   "execution_count": null,
   "id": "21bedfb1-16ca-4937-bc58-98d70198e33d",
   "metadata": {},
   "outputs": [],
   "source": [
    "\n",
    "from matplotlib.legend_handler import HandlerTuple\n",
    "\n",
    "fig, ax = plt.subplots(1,1,figsize=(15/2.54, 5/2.54))\n",
    "\n",
    "\n",
    "\n",
    "\n",
    "# Plot first set\n",
    "line1, = ax.plot(path1[:,0], path1[:,1], \"k--\", linewidth=2)\n",
    "dots1, = ax.plot(path1_sim[::10,0], path1_sim[::10,1], \"ko\", mfc=\"none\", markeredgewidth=1.5)\n",
    "ax.legend([( line1, dots1 )], ['Control'], loc=\"upper left\", bbox_to_anchor=(1.01, 0.995))\n",
    "\n",
    "# Plot second set\n",
    "line2, = ax.plot(path2[:,0], path2[:,1], \"r--\", linewidth=2)\n",
    "dots2, = ax.plot(path2_sim[::10,0], path2_sim[::10,1], \"r^\", mfc=\"none\", markeredgewidth=1.5)\n",
    "\n",
    "# Plot third set\n",
    "line3, = ax.plot(path3[:,0], path3[:,1], \"b--\", linewidth=2)\n",
    "dots3, = ax.plot(path3_sim[::10,0], path3_sim[::10,1], \"b>\", mfc=\"none\", markeredgewidth=1.5)\n",
    "\n",
    "# Create legend with all combinations\n",
    "ax.legend([(line1, dots1), (line2, dots2), (line3, dots3), (dots1, dots2, dots3), (line1, line2, line3)], \n",
    "         ['Control', 'Variation Narrowing', 'Variation Widening', \"Simulations\", \"Predictions\"],\n",
    "         loc=\"upper left\", bbox_to_anchor=(1.01, 0.995),\n",
    "         prop={'family': 'Arial',\n",
    "                'size': 10})\n",
    "\n",
    "\n",
    "ax.text(-0.25,0.95,r'(D)',ha=\"center\", fontsize=14, transform=ax.transAxes, weight=\"bold\", **hfont)\n",
    "\n",
    "ax.set_xlabel(r'$k$', fontsize=14)\n",
    "ax.set_ylabel(r'$\\overline{\\beta}$', fontsize=14)\n",
    "\n",
    "ax.set_ylim(-0.0001,0.0045)\n",
    "ax.set_xticks(np.arange(0,1.01,0.2))\n",
    "\n",
    "plt.subplots_adjust(top=0.95, bottom=0.25, left=0.155, right=0.685)\n",
    "\n",
    "plt.savefig(\"Figure_03D.pdf\")"
   ]
  },
  {
   "cell_type": "code",
   "execution_count": null,
   "id": "af2bedf7-3872-4620-97d5-58291dce5ae2",
   "metadata": {},
   "outputs": [],
   "source": [
    "line1"
   ]
  },
  {
   "cell_type": "code",
   "execution_count": null,
   "id": "2fb7367b-1d44-439f-994b-5ec08a6c3473",
   "metadata": {},
   "outputs": [],
   "source": [
    "fig, ax = plt.subplots(figsize=(15/2.525, 7/2.525))\n",
    "\n",
    "# Plot first set\n",
    "line1, = ax.plot(data[\"beta\"], data_pt[50,:,0,1].transpose(), \"k--\", linewidth=2)\n",
    "dots1, = ax.plot(all_beta[::5], data_sim_pt[50,::5,0].transpose(), \"ko\", mfc=\"none\", markeredgewidth=1.5, ms=10)\n",
    "\n",
    "# Plot second set\n",
    "line2, = ax.plot(data[\"beta\"], data_pt[50,:,1,1].transpose(), \"r-.\", linewidth=2)\n",
    "dots2, = ax.plot(all_beta[1::5], data_sim_pt[50,1::5,1].transpose(), \"r^\", mfc=\"none\", markeredgewidth=1.5, ms=10)\n",
    "\n",
    "# Plot third set\n",
    "line3, = ax.plot(data[\"beta\"], data_pt[50,:,2,1].transpose(), \"b-.\", linewidth=2)\n",
    "dots3, = ax.plot(all_beta[1::5], data_sim_pt[50,1::5,2].transpose(), \"b>\", mfc=\"none\", markeredgewidth=1.5, ms=10)\n",
    "\n",
    "# Create legend with combined line and symbol entries\n",
    "ax.legend([(line1, dots1), (line2, dots2), (line3, dots3), (dots1, dots2, dots3), (line1, line2, line3)],\n",
    "         ['Control', 'Variation Narrowing', 'Variation Widening', 'Simulations', 'Predictions'],\n",
    "         loc=\"upper left\", bbox_to_anchor=(1.01, 0.995),\n",
    "         prop={'family': 'Arial',\n",
    "                'size': 10})\n",
    "\n",
    "ax.set_xticks(np.arange(0,0.0051, 0.001))\n",
    "ax.set_yticks(np.arange(0,0.0201, 0.005))\n",
    "\n",
    "ax.set_ylim((-0.001,0.01))\n",
    "\n",
    "ax.set_xlabel(r'$\\overline{\\beta}$', fontsize=14)\n",
    "ax.set_ylabel(r'$dz~/~dt$', fontsize=14)\n",
    "ax.text(-0.3,0.95,r'(C)',ha=\"center\", fontsize=14, transform=ax.transAxes, weight=\"bold\", **hfont)\n",
    "\n",
    "\n",
    "plt.subplots_adjust(top=0.95, bottom=0.25, left=0.2, right=0.685)\n",
    "plt.savefig(\"Figure_04C.pdf\")"
   ]
  },
  {
   "cell_type": "code",
   "execution_count": null,
   "id": "6248b5bc-46a3-4d78-b561-65e65b4f8dfe",
   "metadata": {},
   "outputs": [],
   "source": []
  }
 ],
 "metadata": {
  "kernelspec": {
   "display_name": "Python 3 (ipykernel)",
   "language": "python",
   "name": "python3"
  },
  "language_info": {
   "codemirror_mode": {
    "name": "ipython",
    "version": 3
   },
   "file_extension": ".py",
   "mimetype": "text/x-python",
   "name": "python",
   "nbconvert_exporter": "python",
   "pygments_lexer": "ipython3",
   "version": "3.9.18"
  }
 },
 "nbformat": 4,
 "nbformat_minor": 5
}
