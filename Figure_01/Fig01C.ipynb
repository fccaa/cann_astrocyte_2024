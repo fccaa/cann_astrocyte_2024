{
 "cells": [
  {
   "cell_type": "code",
   "execution_count": null,
   "id": "54651ea0-8dce-4694-9efe-f50aea2261e9",
   "metadata": {},
   "outputs": [],
   "source": [
    "import numpy as np\n",
    "import matplotlib.pyplot as plt\n",
    "import scipy.stats as spstat\n",
    "plt.rcParams['mathtext.fontset'] = 'stix'  "
   ]
  },
  {
   "cell_type": "code",
   "execution_count": null,
   "id": "1af6563c-7e85-40d7-8a22-bc92ef22d765",
   "metadata": {},
   "outputs": [],
   "source": [
    "FM1_bin = [5, 10, 15, 20, 25, 30, 35, 40, 45, \n",
    "           50, 55, 60, 65, 70, 75, 80, 85, 90, 95, \n",
    "           100, 105, 110, 115, 120, 125, 130, 135, \n",
    "           140, 145, 150, 155, 160, 165, 170, 175, \n",
    "           180, 185, 190, 195, 200]\n",
    "\n",
    "Control_freq = [15, 30, 26, 18, 19, 15, 15, 9, 6, 13, \n",
    "                5, 11, 9, 8, 10, 8, 2, 3, 4, 2, 1, 1, \n",
    "                0, 1, 2, 1, 2, 0, 0, 0, 0, 0, 0, 0, 0, \n",
    "                0, 0, 0, 0, 0]\n",
    "\n",
    "AP5_freq = [1, 13, 40, 53, 66, 37, 39, 29, 23, 15, \n",
    "            10, 5, 11, 8, 3, 3, 0, 0, 1, 1, 3, 0, \n",
    "            0, 0, 1, 1, 2, 0, 0, 0, 0, 0, 0, 0, 0, \n",
    "            0, 0, 0, 0, 0]\n",
    "\n",
    "Control_freq = np.array(Control_freq)\n",
    "Control_freq = Control_freq / np.sum(Control_freq) / 5\n",
    "\n",
    "AP5_freq = np.array(AP5_freq)\n",
    "AP5_freq = AP5_freq / np.sum(AP5_freq) / 5"
   ]
  },
  {
   "cell_type": "code",
   "execution_count": null,
   "id": "5e9c04d9-b680-461e-9eec-acf7511137c5",
   "metadata": {
    "scrolled": true
   },
   "outputs": [],
   "source": [
    "fig, axs = plt.subplots(1,3,figsize=(15/2.525, 6.5/2.525))\n",
    "x = np.arange(-1,200)\n",
    "axs[0].bar(FM1_bin, Control_freq, width=4.5, facecolor=\"#aaddff\", edgecolor=\"#003399\")\n",
    "axs[0].plot(x, spstat.gamma.pdf(x, a=1.377771974410986, scale=29.196273404252505), \"Blue\", linewidth=3, alpha=0.7)\n",
    "axs[0].set_ylim(0,0.04)\n",
    "\n",
    "\n",
    "axs[1].bar(FM1_bin, AP5_freq, width=4.5, facecolor=\"#ffdddd\", edgecolor=\"#990000\")\n",
    "axs[1].plot(x, spstat.gamma.pdf(x, a=3.354520641938138, scale=9.743699331037247), \"red\", linewidth=3, alpha=0.7)\n",
    "axs[1].set_ylim(0,0.04)\n",
    "\n",
    "axs[2].plot(x, spstat.gamma.pdf(x, a=1, scale=40), \"black\", linewidth=3, alpha=0.7)\n",
    "axs[2].set_ylim(0,0.04)\n",
    "\n",
    "for ax in axs:\n",
    "    ax.set_ylabel(\"Probability Density\", fontsize=14)\n",
    "    ax.set_xlabel(\"$\\Delta F$\", fontsize=14)\n",
    "    ax.set_yticks([0,0.01,0.02,0.03, 0.04])\n",
    "\n",
    "plt.tight_layout()\n",
    "\n",
    "plt.savefig(\"Figure_01C.pdf\")"
   ]
  },
  {
   "cell_type": "code",
   "execution_count": null,
   "id": "5cc56926-2330-4f52-9681-0bcf27c146f2",
   "metadata": {},
   "outputs": [],
   "source": [
    "fig, axs = plt.subplots(3,1,figsize=(7.5/2.525, 6.5/2.525))\n",
    "x = np.arange(-1,200)\n",
    "axs[0].bar(FM1_bin, Control_freq, width=4.5, facecolor=\"#aaddff\", edgecolor=\"#003399\")\n",
    "axs[0].plot(x, spstat.gamma.pdf(x, a=1.377771974410986, scale=29.196273404252505), \"Blue\", linewidth=3, alpha=0.7)\n",
    "axs[0].set_ylim(0,0.04)\n",
    "\n",
    "\n",
    "axs[1].bar(FM1_bin, AP5_freq, width=4.5, facecolor=\"#ffdddd\", edgecolor=\"#990000\")\n",
    "axs[1].plot(x, spstat.gamma.pdf(x, a=3.354520641938138, scale=9.743699331037247), \"red\", linewidth=3, alpha=0.7)\n",
    "axs[1].set_ylim(0,0.04)\n",
    "\n",
    "axs[2].plot(x, spstat.gamma.pdf(x, a=1, scale=40), \"black\", linewidth=3, alpha=0.7)\n",
    "axs[2].set_ylim(0,0.04)\n",
    "\n",
    "for ax in axs:\n",
    "    ax.set_yticks([0,0.02,0.04])\n",
    "\n",
    "axs[1].set_ylabel(\"Probability Density\", fontsize=14)\n",
    "axs[2].set_xlabel(\"$\\Delta F$\", fontsize=14)\n",
    "#plt.tight_layout()\n",
    "\n",
    "plt.subplots_adjust(left=0.35, right=0.95, top=0.92, bottom=0.175, hspace=0.58)\n",
    "\n",
    "plt.savefig(\"Figure_01C_a.pdf\")"
   ]
  },
  {
   "cell_type": "code",
   "execution_count": null,
   "id": "47573ef6-0259-4328-8876-aa9dbc7c8df5",
   "metadata": {},
   "outputs": [],
   "source": []
  }
 ],
 "metadata": {
  "kernelspec": {
   "display_name": "Python 3 (ipykernel)",
   "language": "python",
   "name": "python3"
  },
  "language_info": {
   "codemirror_mode": {
    "name": "ipython",
    "version": 3
   },
   "file_extension": ".py",
   "mimetype": "text/x-python",
   "name": "python",
   "nbconvert_exporter": "python",
   "pygments_lexer": "ipython3",
   "version": "3.9.18"
  }
 },
 "nbformat": 4,
 "nbformat_minor": 5
}
